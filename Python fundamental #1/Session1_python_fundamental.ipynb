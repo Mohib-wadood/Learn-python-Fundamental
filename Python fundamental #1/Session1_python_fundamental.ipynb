{
  "nbformat": 4,
  "nbformat_minor": 0,
  "metadata": {
    "colab": {
      "provenance": []
    },
    "kernelspec": {
      "name": "python3",
      "display_name": "Python 3"
    },
    "language_info": {
      "name": "python"
    }
  },
  "cells": [
    {
      "cell_type": "code",
      "source": [
        "print(\"hello world\")"
      ],
      "metadata": {
        "colab": {
          "base_uri": "https://localhost:8080/"
        },
        "id": "LysjuBRpndHs",
        "outputId": "1614368d-5397-4235-ba22-24c32354aa9f"
      },
      "execution_count": null,
      "outputs": [
        {
          "output_type": "stream",
          "name": "stdout",
          "text": [
            "hello world\n"
          ]
        }
      ]
    },
    {
      "cell_type": "code",
      "source": [
        "print(5)"
      ],
      "metadata": {
        "colab": {
          "base_uri": "https://localhost:8080/"
        },
        "id": "Tlpws7QhpHWB",
        "outputId": "a106248d-d331-47a1-d2bb-5d66353eaabc"
      },
      "execution_count": null,
      "outputs": [
        {
          "output_type": "stream",
          "name": "stdout",
          "text": [
            "5\n"
          ]
        }
      ]
    },
    {
      "cell_type": "code",
      "source": [
        "print(4+5)"
      ],
      "metadata": {
        "colab": {
          "base_uri": "https://localhost:8080/"
        },
        "id": "mgTw3PlspNcK",
        "outputId": "82627a0f-e4db-45dd-dc13-3f7306008772"
      },
      "execution_count": null,
      "outputs": [
        {
          "output_type": "stream",
          "name": "stdout",
          "text": [
            "9\n"
          ]
        }
      ]
    },
    {
      "cell_type": "code",
      "source": [
        "print(\"mohib\",5,5.3,True)"
      ],
      "metadata": {
        "colab": {
          "base_uri": "https://localhost:8080/"
        },
        "id": "qjjH2iQ4pXJM",
        "outputId": "61d6b558-a9e8-4d32-a4d8-d40a3d8dc0a1"
      },
      "execution_count": null,
      "outputs": [
        {
          "output_type": "stream",
          "name": "stdout",
          "text": [
            "mohib 5 5.3 True\n"
          ]
        }
      ]
    },
    {
      "cell_type": "code",
      "source": [
        "print(\"mohib\",5,5.3,True,sep= '/')"
      ],
      "metadata": {
        "colab": {
          "base_uri": "https://localhost:8080/"
        },
        "id": "KPk9r9Isqrf4",
        "outputId": "8553a91a-daba-4da1-e5dc-4a5b29f45477"
      },
      "execution_count": null,
      "outputs": [
        {
          "output_type": "stream",
          "name": "stdout",
          "text": [
            "mohib/5/5.3/True\n"
          ]
        }
      ]
    },
    {
      "cell_type": "code",
      "source": [
        "print(\"hello\",end=' ')\n",
        "print('world')"
      ],
      "metadata": {
        "colab": {
          "base_uri": "https://localhost:8080/"
        },
        "id": "UxravM8Gq4as",
        "outputId": "18642af7-fc9b-4503-bc6b-9bbaa1d63fb2"
      },
      "execution_count": null,
      "outputs": [
        {
          "output_type": "stream",
          "name": "stdout",
          "text": [
            "hello world\n"
          ]
        }
      ]
    },
    {
      "cell_type": "code",
      "source": [
        "#integer\n",
        "print(1e309)\n",
        "#float\n",
        "print(1.8e309)\n",
        "#string\n",
        "print('hello world')\n",
        "#bolean\n",
        "print(True)\n",
        "print(False)\n",
        "#list\n",
        "print([1,2,3,4,5])\n",
        "#tuple\n",
        "print((1,2,3,4,5))\n",
        "#sets\n",
        "print({1,2,3,4,5})\n",
        "#Dictionary\n",
        "print({'name':'mohib','gender':'Male','wieght':75})\n",
        "#Complex\n",
        "print(2+5j)\n"
      ],
      "metadata": {
        "colab": {
          "base_uri": "https://localhost:8080/"
        },
        "id": "zOAW0aKbr0Q6",
        "outputId": "8df68ac2-1121-4b2b-f740-d89d63a1ce64"
      },
      "execution_count": null,
      "outputs": [
        {
          "output_type": "stream",
          "name": "stdout",
          "text": [
            "inf\n",
            "inf\n",
            "hello world\n",
            "True\n",
            "False\n",
            "[1, 2, 3, 4, 5]\n",
            "(1, 2, 3, 4, 5)\n",
            "{1, 2, 3, 4, 5}\n",
            "{'name': 'mohib', 'gender': 'Male', 'wieght': 75}\n",
            "(2+5j)\n"
          ]
        }
      ]
    },
    {
      "cell_type": "code",
      "source": [
        "#type\n",
        "type(2+4j)"
      ],
      "metadata": {
        "colab": {
          "base_uri": "https://localhost:8080/"
        },
        "id": "khHhD-FkuPFu",
        "outputId": "5bf56968-f9fd-450f-8061-7c7062ef7336"
      },
      "execution_count": null,
      "outputs": [
        {
          "output_type": "execute_result",
          "data": {
            "text/plain": [
              "complex"
            ]
          },
          "metadata": {},
          "execution_count": 19
        }
      ]
    },
    {
      "cell_type": "markdown",
      "source": [
        "#Input from user"
      ],
      "metadata": {
        "id": "-KAWPmGDbmWj"
      }
    },
    {
      "cell_type": "code",
      "source": [
        "# Now write program that take input from user Store it in a variable\n",
        "fnum=int(input(\"Enter your first number \"))\n",
        "snum=int(input(\"Enter your second number \"))\n",
        "\n",
        "# Add these numbers\n",
        "result= (fnum + snum)\n",
        "# Print result on screen\n",
        "print(result)\n",
        "\n"
      ],
      "metadata": {
        "colab": {
          "base_uri": "https://localhost:8080/"
        },
        "id": "ckaEhUYdbxYa",
        "outputId": "ec4b6b00-bd20-4482-8af0-e79dc8cdae66"
      },
      "execution_count": null,
      "outputs": [
        {
          "output_type": "stream",
          "name": "stdout",
          "text": [
            "Enter your first number 56\n",
            "Enter your second number 24\n",
            "80\n"
          ]
        }
      ]
    },
    {
      "cell_type": "code",
      "source": [
        "# the data which is store in vriable is called letral\n",
        "# Binary letral\n",
        "a=0b1010\n",
        "\n",
        "# Decimal letral\n",
        "b=100\n",
        "\n",
        "# Octal\n",
        "c=0o310\n",
        "\n",
        "# Hexadecimal\n",
        "d=0x12c\n",
        "\n",
        "#float letral\n",
        "float_1= 10.5\n",
        "float_2= 1.5e2 # Means 1.5 * 10^2\n",
        "float_3= 1.5e-3 # Means 1.5 * 10^-3\n",
        "\n",
        "# Complex letral\n",
        "x=3+4j\n",
        "print(a,b,c,d)\n",
        "print(float_1,float_2,float_3)\n",
        "print(x,x.imag,x.real)"
      ],
      "metadata": {
        "colab": {
          "base_uri": "https://localhost:8080/"
        },
        "id": "6WjnFZdVewIR",
        "outputId": "6951b453-d16f-4c83-922c-240938f9c391"
      },
      "execution_count": null,
      "outputs": [
        {
          "output_type": "stream",
          "name": "stdout",
          "text": [
            "10 100 200 300\n",
            "10.5 150.0 0.0015\n",
            "(3+4j) 4.0 3.0\n"
          ]
        }
      ]
    },
    {
      "cell_type": "code",
      "source": [
        "# Convert celsius to farenheit\n",
        "C=int(input(\"Enter value of C: \"))\n",
        "F= (9%5*C)+32\n",
        "print(F)"
      ],
      "metadata": {
        "colab": {
          "base_uri": "https://localhost:8080/"
        },
        "id": "8r6gAW5prYqP",
        "outputId": "ece1356a-9f14-42bb-ae23-4b6a16095a36"
      },
      "execution_count": null,
      "outputs": [
        {
          "output_type": "stream",
          "name": "stdout",
          "text": [
            "Enter value of C: 10\n",
            "72\n"
          ]
        }
      ]
    },
    {
      "cell_type": "code",
      "source": [
        "def find_dogs_and_chickens(total_heads ,toatal_legs):\n",
        "\n",
        " # calculate number of chicken (c) using the equation\n",
        " chickens = (4* total_heads - total_legs)//2\n",
        " # calculate number of dogs (d) using the equation\n",
        " dogs = total_heads-chickens\n",
        " if chickens < 0 or dogs < 0 or 4 * dogs + 2 * chickens != total_legs:\n",
        "    return \"No solution exist with the given total heads and total legs\"\n",
        " return dogs , chickens\n",
        "\n",
        "total_heads = int(input(\"Enter number of Heads :\"))\n",
        "total_legs = int(input(\"Enter number of legs :\"))\n",
        "\n",
        "result = find_dogs_and_chickens(total_heads , total_legs)\n",
        "\n",
        "if isinstance(result, str):\n",
        "    print(result)\n",
        "else:\n",
        "    dogs, chickens = result\n",
        "    print(f\"Number of dogs: {dogs}\")\n",
        "    print(f\"Number of chickens: {chickens}\")"
      ],
      "metadata": {
        "colab": {
          "base_uri": "https://localhost:8080/"
        },
        "id": "bKZXZ8sB3a8o",
        "outputId": "ee1940d6-aa53-4fee-dc4a-6b5bf87a20ba"
      },
      "execution_count": null,
      "outputs": [
        {
          "output_type": "stream",
          "name": "stdout",
          "text": [
            "Enter number of Heads :8\n",
            "Enter number of legs :26\n",
            "Number of dogs: 5\n",
            "Number of chickens: 3\n"
          ]
        }
      ]
    },
    {
      "cell_type": "code",
      "source": [
        "n = int(input(\"Enter positive integer : \"))\n",
        "sum_natral = (n * ( n + 1 ) * (2 * n + 1)) // 6\n",
        "print(f'sum of the square of first {n} natural number is : {sum_natral  }')"
      ],
      "metadata": {
        "id": "RxYkkuAwjBDp",
        "colab": {
          "base_uri": "https://localhost:8080/"
        },
        "outputId": "98c8b04a-f25f-4f5e-dd06-01a80a6088bf"
      },
      "execution_count": 8,
      "outputs": [
        {
          "output_type": "stream",
          "name": "stdout",
          "text": [
            "Enter positive integer : 5\n",
            "sum of the square of first 5 natural number is : 55\n"
          ]
        }
      ]
    },
    {
      "cell_type": "code",
      "source": [
        "# Get inputs for the first fraction\n",
        "a = int(input(\"Enter the numerator of the first fraction: \"))\n",
        "b = int(input(\"Enter the denominator of the first fraction: \"))\n",
        "\n",
        "# Get inputs for the second fraction\n",
        "c = int(input(\"Enter the numerator of the second fraction: \"))\n",
        "d = int(input(\"Enter the denominator of the second fraction: \"))\n",
        "\n",
        " # Find the numerator of the resulting fraction\n",
        "numerator = a * d + b * c\n",
        "denominator = b * d\n",
        "\n",
        "print(f\"The sum of the fractions is: {numerator}/{denominator}\")"
      ],
      "metadata": {
        "colab": {
          "base_uri": "https://localhost:8080/"
        },
        "id": "bOjm_j13MLuW",
        "outputId": "317244a1-29d4-45b4-a17e-f0cd3ecbddea"
      },
      "execution_count": 1,
      "outputs": [
        {
          "output_type": "stream",
          "name": "stdout",
          "text": [
            "Enter the numerator of the first fraction: 2\n",
            "Enter the denominator of the first fraction: 3\n",
            "Enter the numerator of the second fraction: 3\n",
            "Enter the denominator of the second fraction: 2\n",
            "The sum of the fractions is: 13/6\n"
          ]
        }
      ]
    },
    {
      "cell_type": "code",
      "source": [],
      "metadata": {
        "id": "eXFnQqT0P5kM"
      },
      "execution_count": null,
      "outputs": []
    }
  ]
}