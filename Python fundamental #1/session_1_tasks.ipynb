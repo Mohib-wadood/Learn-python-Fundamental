{
  "nbformat": 4,
  "nbformat_minor": 0,
  "metadata": {
    "colab": {
      "provenance": []
    },
    "kernelspec": {
      "name": "python3",
      "display_name": "Python 3"
    },
    "language_info": {
      "name": "python"
    }
  },
  "cells": [
    {
      "cell_type": "markdown",
      "source": [
        "# Task : Session 1\n",
        "Solve these questions own your own and try to test yourself what you have learned in the session.\n",
        "\n",
        "Happy Learning!"
      ],
      "metadata": {
        "id": "A05OG15VqOPF"
      }
    },
    {
      "cell_type": "markdown",
      "source": [
        "### Q1 :- Print the given strings as per stated format.\n",
        "\n",
        "**Given strings**:\n",
        "```\n",
        "\"Data\" \"Science\" \"Mentorship\" \"Program\"\n",
        "\"By\" \"CampusX\"\n",
        "```\n",
        "**Output**:\n",
        "```\n",
        "Data-Science-Mentorship-Program-started-By-CampusX\n",
        "```\n",
        "\n",
        "Concept- [Seperator and End]"
      ],
      "metadata": {
        "id": "2doIXf8bqe9_"
      }
    },
    {
      "cell_type": "code",
      "source": [
        "# Write your code here\n",
        "print('\"Data \" \"science\" \"metorship\" \"Program\" \"started\" \"By\" \"Campusx \"')\n",
        "print(\"Data\",end='-')\n",
        "print(\"science\",end='-')\n",
        "print(\"metorship\",end='-')\n",
        "print(\"Program\",end='-')\n",
        "print(\"started\",end='-')\n",
        "print(\"By\",end='-')\n",
        "print(\"Campusx\")"
      ],
      "metadata": {
        "id": "-em6d3KErDtp",
        "outputId": "67845d0c-d957-4988-aad3-cdbbf7765dd1",
        "colab": {
          "base_uri": "https://localhost:8080/"
        }
      },
      "execution_count": null,
      "outputs": [
        {
          "output_type": "stream",
          "name": "stdout",
          "text": [
            "\"Data \" \"science\" \"metorship\" \"Program\" \"started\" \"By\" \"Campusx \"\n",
            "Data-science-metorship-Program-started-By-Campusx\n"
          ]
        }
      ]
    },
    {
      "cell_type": "markdown",
      "source": [
        "### Q2:- Write a program that will convert celsius value to fahrenheit."
      ],
      "metadata": {
        "id": "1KUpN7ZTrC3_"
      }
    },
    {
      "cell_type": "code",
      "source": [
        "# Write your code here\n",
        "C=int(input(\"Enter value of C: \"))\n",
        "F= (9%5*C)+32\n",
        "print(F)"
      ],
      "metadata": {
        "id": "yxKYhYQiqWfj",
        "outputId": "d888b812-ef60-4bba-a77d-01723018fbbd",
        "colab": {
          "base_uri": "https://localhost:8080/"
        }
      },
      "execution_count": null,
      "outputs": [
        {
          "output_type": "stream",
          "name": "stdout",
          "text": [
            "Enter value of C: 16\n",
            "96\n"
          ]
        }
      ]
    },
    {
      "cell_type": "markdown",
      "source": [
        "### Q3:- Take 2 numbers as input from the user.Write a program to swap the numbers without using any special python syntax."
      ],
      "metadata": {
        "id": "RLrOBBJurLB2"
      }
    },
    {
      "cell_type": "code",
      "source": [
        "from re import A\n",
        "# Write your code here\n",
        "a=int(input(\"Enter first Number :\"))\n",
        "b=int(input(\"Enter Second Number :\"))\n",
        "temp= a\n",
        "a=b\n",
        "b=a\n",
        "print(b)\n",
        "print(temp)"
      ],
      "metadata": {
        "id": "yPn7if0TrJ4F",
        "outputId": "88929e4b-081d-447c-a76e-81a99ca220f7",
        "colab": {
          "base_uri": "https://localhost:8080/"
        }
      },
      "execution_count": null,
      "outputs": [
        {
          "output_type": "stream",
          "name": "stdout",
          "text": [
            "Enter first Number :23\n",
            "Enter Second Number :12\n",
            "12\n",
            "23\n"
          ]
        }
      ]
    },
    {
      "cell_type": "markdown",
      "source": [
        "### Q4:- Write a program to find the euclidean distance between two coordinates.Take both the coordinates from the user as input."
      ],
      "metadata": {
        "id": "waLCP1bjr7ML"
      }
    },
    {
      "cell_type": "code",
      "source": [
        "# Write your code here\n",
        "import math\n",
        "def euclidean_distance(x1,y1,x2,y2):\n",
        "  distance = math.sqrt((x2-x1)**2 + (y2-y1)**2)\n",
        "  return distance\n",
        "# Take values of the first coordinate\n",
        "x1=float(input(\"enter value of x-coordinate of first piont: \"))\n",
        "y1=float(input(\"enter value of y-coordinate of first piont: \"))\n",
        "\n",
        "# Take the values of the second coordinate\n",
        "x2=float(input(\"enter value of x-coordinate of second piont: \"))\n",
        "y2=float(input(\"enter value of y-coordinate of second piont: \"))\n",
        "\n",
        "# Calculating the distance\n",
        "distance = euclidean_distance(x1, y1, x2, y2)\n",
        "\n",
        "print(f\"The Euclidean distance between the points ({x1}, {y1}) and ({x2}, {y2}) is {distance:.2f}\")\n"
      ],
      "metadata": {
        "id": "Pl1Sv-xnrxnH",
        "outputId": "a546e323-633f-46f6-927a-5b7668aaf4ad",
        "colab": {
          "base_uri": "https://localhost:8080/"
        }
      },
      "execution_count": null,
      "outputs": [
        {
          "output_type": "stream",
          "name": "stdout",
          "text": [
            "enter value of x-coordinate of first piont: 5.6\n",
            "enter value of y-coordinate of first piont: 4.7\n",
            "enter value of x-coordinate of second piont: 6.2\n",
            "enter value of y-coordinate of second piont: 3.5\n",
            "The Euclidean distance between the points (5.6, 4.7) and (6.2, 3.5) is 1.34\n"
          ]
        }
      ]
    },
    {
      "cell_type": "markdown",
      "source": [
        "### Q5:- Write a program to find the simple interest when the value of principle,rate of interest and time period is provided by the user.\n"
      ],
      "metadata": {
        "id": "VLrhg-FRsHjR"
      }
    },
    {
      "cell_type": "code",
      "source": [
        "def extract_integer_from_string(r):\n",
        "    # Initialize an empty string to store digits\n",
        "    digits = \"\"\n",
        "\n",
        "    # Iterate through each character in the string\n",
        "    for char in r:\n",
        "        # Check if the character is a digit\n",
        "        if char.isdigit():\n",
        "            digits += char\n",
        "\n",
        "    # Convert the resulting string of digits to an integer\n",
        "    if digits:\n",
        "        return int(digits)\n",
        "    else:\n",
        "        return None  # In case there are no digits in the string"
      ],
      "metadata": {
        "id": "Ti7vE6GFLYNu"
      },
      "execution_count": null,
      "outputs": []
    },
    {
      "cell_type": "code",
      "source": [
        "# Write your code here\n",
        "p=int(input(\"Enter Principle : \")) # the initail amount of money that was deposite or loaned\n",
        "r=str(input(\"Enter rate of charges: \")) # the percentage of principle charged as intrest per period\n",
        "\n",
        "r=extract_integer_from_string(r)\n",
        "print(r)\n",
        "\n",
        "\n",
        "\n",
        "\n",
        "t=int(input(\"Enter time: \")) # the duration for which the money is deposite\n",
        "simple_interest= p*r*t%100\n",
        "print(simple_interest)\n"
      ],
      "metadata": {
        "id": "s40DlReZsTmY",
        "outputId": "c4d217b5-b889-44ba-e9b6-62ebe8e02eb9",
        "colab": {
          "base_uri": "https://localhost:8080/"
        }
      },
      "execution_count": null,
      "outputs": [
        {
          "output_type": "stream",
          "name": "stdout",
          "text": [
            "Enter Principle : 56000\n",
            "Enter rate of charges: 4%\n",
            "4\n",
            "Enter time: 2\n",
            "0\n"
          ]
        }
      ]
    },
    {
      "cell_type": "markdown",
      "source": [
        "### Q6:- Write a program that will tell the number of dogs and chicken are there when the user will provide the value of total heads and legs.\n",
        "\n",
        "For example:\n",
        "Input:\n",
        "heads -> 4\n",
        "legs -> 12\n",
        "<br>\n",
        "Output:\n",
        "dogs -> 2\n",
        "chicken -> 2\n",
        "\n",
        "\n",
        "\n"
      ],
      "metadata": {
        "id": "LMy0BTUktYKa"
      }
    },
    {
      "cell_type": "code",
      "source": [
        "# Write your code here\n",
        "def find_dogs_and_chickens(total_heads ,toatal_legs):\n",
        "\n",
        " # calculate number of chicken (c) using the equation\n",
        " chickens = (4* total_heads - total_legs)//2\n",
        " # calculate number of dogs (d) using the equation\n",
        " dogs = total_heads-chickens\n",
        " if chickens < 0 or dogs < 0 or 4 * dogs + 2 * chickens != total_legs:\n",
        "    return \"No solution exist with the given total heads and total legs\"\n",
        " return dogs , chickens\n",
        "\n",
        "total_heads = int(input(\"Enter number of Heads :\"))\n",
        "total_legs = int(input(\"Enter number of legs :\"))\n",
        "\n",
        "result = find_dogs_and_chickens(total_heads , total_legs)\n",
        "\n",
        "if isinstance(result, str):\n",
        "    print(result)\n",
        "else:\n",
        "    dogs, chickens = result\n",
        "    print(f\"Number of dogs: {dogs}\")\n",
        "    print(f\"Number of chickens: {chickens}\")\n",
        "\n",
        "\n"
      ],
      "metadata": {
        "id": "XSBvJoA4tXaG",
        "colab": {
          "base_uri": "https://localhost:8080/"
        },
        "outputId": "ace0fd31-8250-40dc-d6da-8faab422c534"
      },
      "execution_count": null,
      "outputs": [
        {
          "output_type": "stream",
          "name": "stdout",
          "text": [
            "Enter number of Heads :11\n",
            "Enter number of legs :25\n",
            "No solution exist with the given total heads and total legs\n"
          ]
        }
      ]
    },
    {
      "cell_type": "markdown",
      "source": [
        "### Q7:- Write a program to find the sum of squares of first n natural numbers where n will be provided by the user."
      ],
      "metadata": {
        "id": "gJ7C5kZYt4BP"
      }
    },
    {
      "cell_type": "code",
      "source": [
        "# Write your code here\n",
        "def sum_of_squares(n):\n",
        "  total_sum = 0\n",
        "\n",
        "  for i in range(1,n+1):\n",
        "    total_sum += i**2\n",
        "  return total_sum\n",
        "\n",
        "n = int(input(\"Enter a positve integer n: \"))\n",
        "\n",
        "result = sum_of_squares(n)\n",
        "\n",
        "print(f\"The sum of squares of the first {n} natural numbers is: {result}\")"
      ],
      "metadata": {
        "id": "_tHsmEHzt2nX",
        "colab": {
          "base_uri": "https://localhost:8080/"
        },
        "outputId": "cc2d25c7-d498-4e45-e08a-00bd92ed32e9"
      },
      "execution_count": null,
      "outputs": [
        {
          "output_type": "stream",
          "name": "stdout",
          "text": [
            "Enter a positve integer n: 5\n",
            "The sum of squares of the first 5 natural numbers is: 55\n"
          ]
        }
      ]
    },
    {
      "cell_type": "code",
      "source": [
        "# Take Number from the user\n",
        "n = int(input(\"Enter positive integer : \"))\n",
        "\n",
        " # formula for the sum of the  square of n natural numbers\n",
        "sum_natral = (n * ( n + 1 ) * (2 * n + 1)) // 6\n",
        "\n",
        "# Display result\n",
        "print(f'sum of the square of first {n} natural number is : {sum_natral  }')"
      ],
      "metadata": {
        "colab": {
          "base_uri": "https://localhost:8080/"
        },
        "id": "9wRb7XMMPoP5",
        "outputId": "d9b20ce1-6428-4556-ebf2-a2d6959e0821"
      },
      "execution_count": 1,
      "outputs": [
        {
          "output_type": "stream",
          "name": "stdout",
          "text": [
            "Enter positive integer : 5\n",
            "sum of the square of first 5 natural number is : 55\n"
          ]
        }
      ]
    },
    {
      "cell_type": "markdown",
      "source": [
        "### Q8:- Given the first 2 terms of an Arithmetic Series.Find the Nth term of the series. Assume all inputs are provided by the user."
      ],
      "metadata": {
        "id": "FHrMM7g-yG1h"
      }
    },
    {
      "cell_type": "code",
      "source": [
        "# Write your code here\n",
        "a1 = int(input(\"Enter the first term of the squence \"))\n",
        "a2 = int(input(\"Enter the second term of the squence \"))\n",
        "\n",
        "d = a2 - a1\n",
        "\n",
        "n = int(input(\"Enter the number of terms :\"))\n",
        "\n",
        "an = a1 + (n-1) * d\n",
        "\n",
        "\n",
        "print(f\"Nth term of the arithmetic series is :{an}\")\n"
      ],
      "metadata": {
        "id": "go4_kmZmyVSx",
        "colab": {
          "base_uri": "https://localhost:8080/"
        },
        "outputId": "c9d41901-e92d-4b8b-e8b6-274244520fd1"
      },
      "execution_count": 8,
      "outputs": [
        {
          "output_type": "stream",
          "name": "stdout",
          "text": [
            "Enter the first term of the squence 3\n",
            "Enter the second term of the squence 5\n",
            "Enter the number of terms :9\n",
            "Nth term of the arithmetic series is :19\n"
          ]
        }
      ]
    },
    {
      "cell_type": "markdown",
      "source": [
        "56### Q9:- Given 2 fractions, find the sum of those 2 fractions.Take the numerator and denominator values of the fractions from the user."
      ],
      "metadata": {
        "id": "QgyRX_es1oum"
      }
    },
    {
      "cell_type": "code",
      "source": [
        "# Write your code here\n",
        "import math\n",
        "\n",
        "def find_fraction_sum(a, b, c, d):\n",
        "    # Find the numerator of the resulting fraction\n",
        "    numerator = a * d + b * c\n",
        "\n",
        "    # Find the denominator of the resulting fraction\n",
        "    denominator = b * d\n",
        "\n",
        "    # Simplify the fraction by finding the greatest common divisor (GCD)\n",
        "    gcd = math.gcd(numerator, denominator)\n",
        "    numerator //= gcd\n",
        "    denominator //= gcd\n",
        "\n",
        "    return numerator, denominator\n",
        "\n",
        "# Get inputs for the first fraction\n",
        "a = int(input(\"Enter the numerator of the first fraction: \"))\n",
        "b = int(input(\"Enter the denominator of the first fraction: \"))\n",
        "\n",
        "# Get inputs for the second fraction\n",
        "c = int(input(\"Enter the numerator of the second fraction: \"))\n",
        "d = int(input(\"Enter the denominator of the second fraction: \"))\n",
        "\n",
        "# Calculate the sum of the fractions\n",
        "numerator, denominator = find_fraction_sum(a, b, c, d)\n",
        "\n",
        "# Display the result\n",
        "print(f\"The sum of the fractions is: {numerator}/{denominator}\")\n",
        "\n"
      ],
      "metadata": {
        "id": "X05xqFS1yW16",
        "colab": {
          "base_uri": "https://localhost:8080/"
        },
        "outputId": "848ce59e-616d-45ee-84da-c441eb9b52bc"
      },
      "execution_count": 13,
      "outputs": [
        {
          "output_type": "stream",
          "name": "stdout",
          "text": [
            "Enter the numerator of the first fraction: 2\n",
            "Enter the denominator of the first fraction: 3\n",
            "Enter the numerator of the second fraction: 3\n",
            "Enter the denominator of the second fraction: 2\n",
            "The sum of the fractions is: 13/6\n"
          ]
        }
      ]
    },
    {
      "cell_type": "code",
      "source": [
        "# Get inputs for the first fraction\n",
        "a = int(input(\"Enter the numerator of the first fraction: \"))\n",
        "b = int(input(\"Enter the denominator of the first fraction: \"))\n",
        "\n",
        "# Get inputs for the second fraction\n",
        "c = int(input(\"Enter the numerator of the second fraction: \"))\n",
        "d = int(input(\"Enter the denominator of the second fraction: \"))\n",
        "\n",
        " # Find the numerator of the resulting fraction\n",
        "numerator = a * d + b * c\n",
        "denominator = b * d\n",
        "\n",
        "print(f\"The sum of the fractions is: {numerator}/{denominator}\")"
      ],
      "metadata": {
        "colab": {
          "base_uri": "https://localhost:8080/"
        },
        "id": "k4p9HzdaQEso",
        "outputId": "4e348167-b0d1-4815-f029-c3edb8dd1625"
      },
      "execution_count": 14,
      "outputs": [
        {
          "output_type": "stream",
          "name": "stdout",
          "text": [
            "Enter the numerator of the first fraction: 2\n",
            "Enter the denominator of the first fraction: 3\n",
            "Enter the numerator of the second fraction: 3\n",
            "Enter the denominator of the second fraction: 2\n",
            "The sum of the fractions is: 13/6\n"
          ]
        }
      ]
    },
    {
      "cell_type": "markdown",
      "source": [
        "### Q10:- Given the height, width and breadth of a milk tank, you have to find out how many glasses of milk can be obtained? Assume all the inputs are provided by the user.\n",
        "\n",
        "\n",
        "\n",
        "Input:<br>\n",
        "Dimensions of the milk tank<br>\n",
        "H = 20cm, L = 20cm, B = 20cm\n",
        "<br><br>\n",
        "Dimensions of the glass<br>\n",
        "h = 3cm, r = 1cm"
      ],
      "metadata": {
        "id": "eaql38ln13u7"
      }
    },
    {
      "cell_type": "code",
      "source": [
        "# Write your code here\n",
        "h = int(input(\"Enter hight of the tank :\"))\n",
        "l = int(input(\"Enter length of the tank :\"))\n",
        "b = int(input(\"Enter breadth of the tank :\"))\n",
        "\n",
        "area_tank = h * l * b\n",
        "\n",
        "r = int(input(\"Radius of the glass :\"))\n",
        "gh = int(input(\"Hieght of the glass :\"))\n",
        "pi = float(input(\"Enter pi value :\"))\n",
        "\n",
        "area_glass = pi * r**2 * gh\n",
        "\n",
        "glasses_obtained = area_tank % area_glass\n",
        "\n",
        "print(f\"The glasses obtain from tank is :{glasses_obtained}\")\n",
        "\n"
      ],
      "metadata": {
        "id": "FePZqno74eWv",
        "colab": {
          "base_uri": "https://localhost:8080/"
        },
        "outputId": "c1ee041a-9f09-4965-d72f-665ed35f92ad"
      },
      "execution_count": 18,
      "outputs": [
        {
          "output_type": "stream",
          "name": "stdout",
          "text": [
            "Enter hight of the tank :20\n",
            "Enter length of the tank :20\n",
            "Enter breadth of the tank :20\n",
            "Radius of the glass :1\n",
            "Hieght of the glass :3\n",
            "Enter pi value :3.14\n",
            "The glasses obtain from tank is :2.4200000000000603\n"
          ]
        }
      ]
    },
    {
      "cell_type": "code",
      "source": [],
      "metadata": {
        "id": "8Z4B6SUddH0t"
      },
      "execution_count": null,
      "outputs": []
    }
  ]
}